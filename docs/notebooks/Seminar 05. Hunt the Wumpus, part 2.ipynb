{
 "cells": [
  {
   "cell_type": "markdown",
   "metadata": {},
   "source": [
    "# Seminar 05. Hunt the Wumpus, part 2"
   ]
  },
  {
   "cell_type": "markdown",
   "metadata": {},
   "source": [
    "### Exercise 01. Defining functions\n",
    "In the example below, which function call will work and which will throw an error? Do not run the code, think and, then, write you answer here.\n",
    "\n",
    "**Answer:**"
   ]
  },
  {
   "cell_type": "code",
   "execution_count": null,
   "metadata": {},
   "outputs": [],
   "source": [
    "def do_something():\n",
    "    \"\"\"\n",
    "    Does something!\n",
    "    \"\"\"\n",
    "    print(\"Doing it!\")\n",
    "    \n",
    "do_something()\n",
    "do_something_else()\n",
    "\n",
    "def do_something_else():\n",
    "    \"\"\"\n",
    "    Does something else!\n",
    "    \"\"\"\n",
    "    print(\"And now to something completely different...\")   "
   ]
  },
  {
   "cell_type": "markdown",
   "metadata": {},
   "source": [
    "### Exercise 02. Redefining functions\n",
    "What will be printed in the example below?\n",
    "\n",
    "**Answer:**"
   ]
  },
  {
   "cell_type": "code",
   "execution_count": null,
   "metadata": {},
   "outputs": [],
   "source": [
    "def print_something():\n",
    "    \"\"\"\n",
    "    Prints \"something\"\n",
    "    \"\"\"\n",
    "    print(\"something\")\n",
    "    \n",
    "def print_something():\n",
    "    \"\"\"\n",
    "    Prints \"I refuse to print\"\n",
    "    \"\"\"\n",
    "    print(\"I refuse to print\")\n",
    "    \n",
    "print_something()"
   ]
  },
  {
   "cell_type": "markdown",
   "metadata": {},
   "source": [
    "### Exercise 03. Arguments\n",
    "Which function call will produce correct (meaningful) results and which will throw an error?\n",
    "**Answers:**\n",
    "1. \n",
    "2. \n",
    "3. "
   ]
  },
  {
   "cell_type": "code",
   "execution_count": null,
   "metadata": {},
   "outputs": [],
   "source": [
    "def print_age(birth_year, current_year):\n",
    "    \"\"\"\n",
    "    Computes age given birth year and current year.\n",
    "\n",
    "    Parameters\n",
    "    ----------\n",
    "    birth_year : int\n",
    "    current_year : int\n",
    "    \"\"\"\n",
    "    print(current_year - birth_year)\n",
    "\n",
    "i_was_born = 1976\n",
    "today_is = 2020\n",
    "\n",
    "#1\n",
    "print_age(i_was_born, today_is)\n",
    "\n",
    "#2\n",
    "print_age(today_is, i_was_born)\n",
    "\n",
    "#3\n",
    "print_age(i_was_born)"
   ]
  },
  {
   "cell_type": "markdown",
   "metadata": {},
   "source": [
    "### Exercise 04, returning a value\n",
    "For which function call the value will be stored or used, and for which call it will be unused and, hence, lost forever (probably, will vanish into the nearest black hole)?\n",
    "\n",
    "**Answers:**\n",
    "1. \n",
    "2. \n",
    "3. "
   ]
  },
  {
   "cell_type": "code",
   "execution_count": null,
   "metadata": {},
   "outputs": [],
   "source": [
    "def compute_age(birth_year, current_year):\n",
    "    \"\"\"\n",
    "    Computes age given birth year and current year.\n",
    "\n",
    "    Parameters\n",
    "    ----------\n",
    "    birth_year : int\n",
    "    current_year : int\n",
    "    \n",
    "    Returns\n",
    "    ----------\n",
    "    int : age\n",
    "    \"\"\"\n",
    "    return current_year - birth_year\n",
    "\n",
    "# 1.\n",
    "my_age = compute_age(1976, 2020)\n",
    "print(my_age)\n",
    "\n",
    "# 2.\n",
    "compute_age(1976, 2020)\n",
    "\n",
    "# 3.\n",
    "if compute_age(1976, 2020) > 40:\n",
    "    print(\"You are definitely over 40!\")\n",
    "else:\n",
    "    print(\"When I was your age...\")"
   ]
  },
  {
   "cell_type": "markdown",
   "metadata": {},
   "source": [
    "### Exercise 05,visibility scopes.\n",
    "What will be printed and why? \n",
    "\n",
    "**Answer #1:**"
   ]
  },
  {
   "cell_type": "code",
   "execution_count": null,
   "metadata": {},
   "outputs": [],
   "source": [
    "def do_something():\n",
    "    \"\"\"\n",
    "    Does something!\n",
    "    \"\"\"\n",
    "    x = 5\n",
    "    print(x)\n",
    "    \n",
    "    \n",
    "x = 1\n",
    "do_something()"
   ]
  },
  {
   "cell_type": "markdown",
   "metadata": {},
   "source": [
    "**Answer #2:**"
   ]
  },
  {
   "cell_type": "code",
   "execution_count": null,
   "metadata": {},
   "outputs": [],
   "source": [
    "def do_something():\n",
    "    \"\"\"\n",
    "    Does something!\n",
    "    \"\"\"\n",
    "    x = 5\n",
    "    \n",
    "x = 1\n",
    "do_something()\n",
    "print(x)"
   ]
  },
  {
   "cell_type": "markdown",
   "metadata": {},
   "source": [
    "**Answer #3:**"
   ]
  },
  {
   "cell_type": "code",
   "execution_count": null,
   "metadata": {},
   "outputs": [],
   "source": [
    "def do_something(y):\n",
    "    \"\"\"\n",
    "    Does something!\n",
    "    \"\"\"\n",
    "    x = 5\n",
    "    print(y)\n",
    "    \n",
    "x = 1\n",
    "do_something(x)"
   ]
  },
  {
   "cell_type": "markdown",
   "metadata": {},
   "source": [
    "**Answer #4:**"
   ]
  },
  {
   "cell_type": "code",
   "execution_count": null,
   "metadata": {},
   "outputs": [],
   "source": [
    "def do_something(x):\n",
    "    \"\"\"\n",
    "    Does something!\n",
    "    \"\"\"\n",
    "    x = x + 5\n",
    "    return x\n",
    "    \n",
    "    \n",
    "x = 1\n",
    "do_something(x)\n",
    "print(x)"
   ]
  },
  {
   "cell_type": "markdown",
   "metadata": {},
   "source": [
    "**Answer #5:**"
   ]
  },
  {
   "cell_type": "code",
   "execution_count": null,
   "metadata": {},
   "outputs": [],
   "source": [
    "def do_something(x):\n",
    "    \"\"\"\n",
    "    Does something!\n",
    "    \"\"\"\n",
    "    x = x + 5\n",
    "    return x\n",
    "    \n",
    "    \n",
    "x = 1\n",
    "x = do_something(x)\n",
    "print(x)"
   ]
  },
  {
   "cell_type": "markdown",
   "metadata": {},
   "source": [
    "**Answer #6:**"
   ]
  },
  {
   "cell_type": "code",
   "execution_count": null,
   "metadata": {},
   "outputs": [],
   "source": [
    "def do_something(x):\n",
    "    \"\"\"\n",
    "    Does something!\n",
    "    \"\"\"\n",
    "    x = x + 5\n",
    "    return x\n",
    "    \n",
    "def yet_another_function(x):\n",
    "    \"\"\"\n",
    "    Another one!\n",
    "    \"\"\"\n",
    "    print(x)\n",
    "    \n",
    "x = 1\n",
    "x = do_something(x)\n",
    "yet_another_function(x)"
   ]
  },
  {
   "cell_type": "markdown",
   "metadata": {},
   "source": [
    "**Answer #7:**"
   ]
  },
  {
   "cell_type": "code",
   "execution_count": null,
   "metadata": {},
   "outputs": [],
   "source": [
    "def do_something(x):\n",
    "    \"\"\"\n",
    "    Does something!\n",
    "    \"\"\"\n",
    "    x = x + 5\n",
    "    return x\n",
    "    \n",
    "def yet_another_function(x):\n",
    "    \"\"\"\n",
    "    Another one!\n",
    "    \"\"\"\n",
    "    x = 10\n",
    "    print(x)\n",
    "    \n",
    "x = 1\n",
    "x = do_something(x)\n",
    "yet_another_function(x)"
   ]
  },
  {
   "cell_type": "markdown",
   "metadata": {},
   "source": [
    "**Answer #8:**"
   ]
  },
  {
   "cell_type": "code",
   "execution_count": null,
   "metadata": {},
   "outputs": [],
   "source": [
    "def do_something(x):\n",
    "    \"\"\"\n",
    "    Does something!\n",
    "    \"\"\"\n",
    "    x = x + 5\n",
    "    return x\n",
    "    \n",
    "def yet_another_function(x):\n",
    "    \"\"\"\n",
    "    Another one!\n",
    "    \"\"\"\n",
    "    x = 10\n",
    "    return x\n",
    "    \n",
    "x = 1\n",
    "yet_another_function(x)\n",
    "x = do_something(x)\n",
    "print(x)"
   ]
  },
  {
   "cell_type": "markdown",
   "metadata": {},
   "source": [
    "**Answer #9:**"
   ]
  },
  {
   "cell_type": "code",
   "execution_count": null,
   "metadata": {},
   "outputs": [],
   "source": [
    "def do_something(x):\n",
    "    \"\"\"\n",
    "    Does something!\n",
    "    \"\"\"\n",
    "    x = x + 5\n",
    "    return x\n",
    "    \n",
    "def yet_another_function(x):\n",
    "    \"\"\"\n",
    "    Another one!\n",
    "    \"\"\"\n",
    "    x = 10\n",
    "    return x\n",
    "    \n",
    "x = 1\n",
    "yet_another_function(x)\n",
    "print(x)\n",
    "x = do_something(x)"
   ]
  },
  {
   "cell_type": "markdown",
   "metadata": {},
   "source": [
    "**Answer #10:**"
   ]
  },
  {
   "cell_type": "code",
   "execution_count": 1,
   "metadata": {},
   "outputs": [
    {
     "name": "stdout",
     "output_type": "stream",
     "text": [
      "1\n"
     ]
    }
   ],
   "source": [
    "def do_something(x):\n",
    "    \"\"\"\n",
    "    Does something!\n",
    "    \"\"\"\n",
    "    return x < 1\n",
    "    \n",
    "def yet_another_function(x):\n",
    "    \"\"\"\n",
    "    Another one!\n",
    "    \"\"\"\n",
    "    print(x)\n",
    "    \n",
    "x = 1\n",
    "if do_something(x):\n",
    "    yet_another_function(x + 10)\n",
    "else:\n",
    "    print(x)"
   ]
  },
  {
   "cell_type": "markdown",
   "metadata": {},
   "source": [
    "**Answer #11:**"
   ]
  },
  {
   "cell_type": "code",
   "execution_count": null,
   "metadata": {},
   "outputs": [],
   "source": [
    "def do_something(x):\n",
    "    \"\"\"\n",
    "    Does something!\n",
    "    \"\"\"\n",
    "    x = x + 5\n",
    "    return x\n",
    "    \n",
    "def yet_another_function(x):\n",
    "    \"\"\"\n",
    "    Another one!\n",
    "    \"\"\"\n",
    "    x = 10\n",
    "    return x\n",
    "    \n",
    "x = yet_another_function(1)\n",
    "while x < 20:\n",
    "    x = do_something(x)\n",
    "print(x)"
   ]
  },
  {
   "cell_type": "markdown",
   "metadata": {},
   "source": [
    "**Answer #12:**"
   ]
  },
  {
   "cell_type": "code",
   "execution_count": null,
   "metadata": {},
   "outputs": [],
   "source": [
    "def do_something(x):\n",
    "    \"\"\"\n",
    "    Does something!\n",
    "    \"\"\"\n",
    "    x = x + 2\n",
    "    return x\n",
    "    \n",
    "def yet_another_function(x):\n",
    "    \"\"\"\n",
    "    Another one!\n",
    "    \"\"\"\n",
    "    return x * 2\n",
    "    \n",
    "x = yet_another_function(3)\n",
    "while x < 20:\n",
    "    x = do_something(x)\n",
    "    if x == 13:\n",
    "        break\n",
    "print(x)"
   ]
  },
  {
   "cell_type": "markdown",
   "metadata": {},
   "source": [
    "### Exercise 6 input_int() function\n",
    "Re-implement the code that repeatedly prompts the user until they enter a valid input that you created during the last seminar. The main difference is that you `return` the user input instead of using the variable's value directly. I would recommend implementing the code in a separate cell without the function header (`def input_int():`) and the `return` statements first. Once it works, you can indent it and add the function header. Next, test it by calling the function (e.g. `guess = input_int()` or just `input_int()`), to see that it works reliably, i.e. keeps prompting you until you enter a valid integer."
   ]
  },
  {
   "cell_type": "code",
   "execution_count": null,
   "metadata": {},
   "outputs": [],
   "source": []
  },
  {
   "cell_type": "markdown",
   "metadata": {},
   "source": [
    "### Exercise 7 Document input_int() function\n",
    "Document the function from the previous exercise in NumPy style, see [official manual](https://numpydoc.readthedocs.io/en/latest/format.html#docstring-standard)."
   ]
  },
  {
   "cell_type": "code",
   "execution_count": null,
   "metadata": {},
   "outputs": [],
   "source": []
  },
  {
   "cell_type": "markdown",
   "metadata": {},
   "source": [
    "### Exercise 8. adding prompt argument to input_int()\n",
    "Add `prompt` argument to the `input_int()` function and use its value when you call the `input()` function."
   ]
  },
  {
   "cell_type": "code",
   "execution_count": 8,
   "metadata": {},
   "outputs": [
    {
     "name": "stdout",
     "output_type": "stream",
     "text": [
      "Enter THE number:1\n"
     ]
    }
   ],
   "source": [
    "def input_int(prompt):\n",
    "    input(prompt)\n",
    "    \n",
    "    \n",
    "# prompt = \"Enter your mother's maiden name:\"\n",
    "input_int(\"Enter THE number:\")"
   ]
  },
  {
   "cell_type": "markdown",
   "metadata": {},
   "source": [
    "### Exercise 9, using input_int()\n",
    "Now we have a function that makes our code cleaner and easier to understand, so let us use it! Copy-paste your final game code for the previous seminar and alter it to use `input_int()` in place of `input()` + checks + type-conversion."
   ]
  },
  {
   "cell_type": "code",
   "execution_count": null,
   "metadata": {},
   "outputs": [],
   "source": []
  },
  {
   "cell_type": "markdown",
   "metadata": {},
   "source": [
    "### Exercise 10, input_cave function\n",
    "Implement `input_cave` function. It will have a single argument `accesible_caves` (the assumed value is the list of accessible caves), and it will return a integer: the index of the cave the player picked. In the function, you need to print the cave indexes and ask about which cave the player wants to go to until they give a valid answer. Note that you do not need to re-implement the `input_int()` functionality inside, you use that function to get an integer and perform additional checks that integer is `in` the list. Don't forget to document and test it!"
   ]
  },
  {
   "cell_type": "code",
   "execution_count": null,
   "metadata": {},
   "outputs": [],
   "source": []
  },
  {
   "cell_type": "markdown",
   "metadata": {},
   "source": [
    "### Exercise 11, using input_cave\n",
    "Copy-paste the code from exercise #9 and alter it to use `input_cave` in place of `input_int()` + checks code."
   ]
  },
  {
   "cell_type": "code",
   "execution_count": null,
   "metadata": {},
   "outputs": [],
   "source": []
  },
  {
   "cell_type": "markdown",
   "metadata": {},
   "source": [
    "### Exercise 12, find_empty_cave function\n",
    "Implement the code that places the player into a random cave as a separate function. Call it `find_empty_cave`. It should have one parameter `caves_number` (the total number of caves), and should generate and return a random number between `0` and `caves_number - 1`."
   ]
  },
  {
   "cell_type": "code",
   "execution_count": null,
   "metadata": {},
   "outputs": [],
   "source": []
  },
  {
   "cell_type": "markdown",
   "metadata": {},
   "source": [
    "### Exercise 13, use find_empty_cave function\n",
    "Copy-paste the code from exercise #11 and alter it to use `find_empty_cave` function."
   ]
  },
  {
   "cell_type": "code",
   "execution_count": null,
   "metadata": {},
   "outputs": [],
   "source": []
  }
 ],
 "metadata": {
  "kernelspec": {
   "display_name": "Python 3",
   "language": "python",
   "name": "python3"
  },
  "language_info": {
   "codemirror_mode": {
    "name": "ipython",
    "version": 3
   },
   "file_extension": ".py",
   "mimetype": "text/x-python",
   "name": "python",
   "nbconvert_exporter": "python",
   "pygments_lexer": "ipython3",
   "version": "3.6.1"
  }
 },
 "nbformat": 4,
 "nbformat_minor": 2
}
