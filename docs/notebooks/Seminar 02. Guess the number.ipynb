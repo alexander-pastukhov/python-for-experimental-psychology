{
 "cells": [
  {
   "cell_type": "markdown",
   "metadata": {},
   "source": [
    "# Seminar 02. Guess the number"
   ]
  },
  {
   "cell_type": "markdown",
   "metadata": {},
   "source": [
    "### Exercise 01\n",
    "\n",
    "1. Create a variable called `number_picked` (or some other meaningful name) and assign an arbitrary number to it.\n",
    "2. Print out its value in a nice form using string formating."
   ]
  },
  {
   "cell_type": "code",
   "execution_count": null,
   "metadata": {},
   "outputs": [],
   "source": []
  },
  {
   "cell_type": "markdown",
   "metadata": {},
   "source": [
    "### Exercise 02\n",
    "Use `input([prompt])` function, so that player can enter their guess. Convert its output to an `int` and assign this value to `guess` variable."
   ]
  },
  {
   "cell_type": "code",
   "execution_count": null,
   "metadata": {},
   "outputs": [],
   "source": []
  },
  {
   "cell_type": "markdown",
   "metadata": {},
   "source": [
    "### Exercise 03\n",
    "What would be the result (`True` or `False`) for each comparison? Write down answers before evaluating the cell."
   ]
  },
  {
   "cell_type": "markdown",
   "metadata": {},
   "source": [
    "**Answer #1:**"
   ]
  },
  {
   "cell_type": "code",
   "execution_count": null,
   "metadata": {},
   "outputs": [],
   "source": [
    "-1 != 2 - 3"
   ]
  },
  {
   "cell_type": "markdown",
   "metadata": {},
   "source": [
    "**Answer #2:**"
   ]
  },
  {
   "cell_type": "code",
   "execution_count": null,
   "metadata": {},
   "outputs": [],
   "source": [
    "-1 >= 2 - 4"
   ]
  },
  {
   "cell_type": "markdown",
   "metadata": {},
   "source": [
    "**Answer #3:**"
   ]
  },
  {
   "cell_type": "code",
   "execution_count": null,
   "metadata": {},
   "outputs": [],
   "source": [
    "-100 == -1e2"
   ]
  },
  {
   "cell_type": "markdown",
   "metadata": {},
   "source": [
    "### Exercise 04\n",
    "Write a comparison that \"3 is greater than 2\" without using `>` or `<` but with the help of `not` operator. Test that it works for all cases, e.g., also for \"3 vs 3\" and \"3 vs 4\"."
   ]
  },
  {
   "cell_type": "code",
   "execution_count": 3,
   "metadata": {},
   "outputs": [
    {
     "data": {
      "text/plain": [
       "False"
      ]
     },
     "execution_count": 3,
     "metadata": {},
     "output_type": "execute_result"
    }
   ],
   "source": []
  },
  {
   "cell_type": "markdown",
   "metadata": {},
   "source": [
    "### Exercise 05\n",
    "Write a comparison that \"3 is less than 2\" without using `>`, `<` or `not` operators. Test that it works for all cases, e.g., also for \"3 vs 3\" and \"3 vs 4\"."
   ]
  },
  {
   "cell_type": "code",
   "execution_count": null,
   "metadata": {},
   "outputs": [],
   "source": []
  },
  {
   "cell_type": "markdown",
   "metadata": {},
   "source": [
    "### Exercise 06\n",
    "Use `and` or `or` operators to write a condition \"A is a positive number below 10\"."
   ]
  },
  {
   "cell_type": "code",
   "execution_count": null,
   "metadata": {},
   "outputs": [],
   "source": []
  },
  {
   "cell_type": "markdown",
   "metadata": {},
   "source": [
    "### Exercise 07\n",
    "Will an expression generate a valid logical value or an error?"
   ]
  },
  {
   "cell_type": "markdown",
   "metadata": {},
   "source": [
    "**Answer #1:**"
   ]
  },
  {
   "cell_type": "code",
   "execution_count": null,
   "metadata": {},
   "outputs": [],
   "source": [
    "False and 2 / 0"
   ]
  },
  {
   "cell_type": "markdown",
   "metadata": {},
   "source": [
    "**Answer #2:**"
   ]
  },
  {
   "cell_type": "code",
   "execution_count": null,
   "metadata": {},
   "outputs": [],
   "source": [
    "False or 10 / 0"
   ]
  },
  {
   "cell_type": "markdown",
   "metadata": {},
   "source": [
    "**Answer #3:**"
   ]
  },
  {
   "cell_type": "code",
   "execution_count": null,
   "metadata": {},
   "outputs": [],
   "source": [
    "False or True or -1/0"
   ]
  },
  {
   "cell_type": "markdown",
   "metadata": {},
   "source": [
    "### Exercise 08\n",
    "Evalute each expression and determine whether it is `True` or `False`. Write down answers before running the cell."
   ]
  },
  {
   "cell_type": "markdown",
   "metadata": {},
   "source": [
    "**Answer:**\n",
    "1. \n",
    "2. \n",
    "3. \n",
    "4. "
   ]
  },
  {
   "cell_type": "code",
   "execution_count": null,
   "metadata": {},
   "outputs": [],
   "source": [
    "x = 2\n",
    "y = -10\n",
    "z = 4\n",
    "\n",
    "# 1\n",
    "print('#1: ', x <  10 or (x > 0 and y < 0))\n",
    "\n",
    "# 2\n",
    "print('#2: ', x > 10 or (x > 1 and y > -20))\n",
    "\n",
    "# 3\n",
    "print('#3: ', (x > 1 and y > -5) or y > z)\n",
    "\n",
    "#4\n",
    "print('#4: ', x > 1 or y > -5 or y > z)"
   ]
  },
  {
   "cell_type": "markdown",
   "metadata": {},
   "source": [
    "### Exercise 09\n",
    "Which numbers will be printed? Write down your answer before running the cell."
   ]
  },
  {
   "cell_type": "markdown",
   "metadata": {},
   "source": [
    "**Answer:**"
   ]
  },
  {
   "cell_type": "code",
   "execution_count": null,
   "metadata": {},
   "outputs": [],
   "source": [
    "print(1)\n",
    "if 2 > 3:\n",
    "    print(2)\n",
    "else:\n",
    "    print(3)\n",
    "    if 8 * 6 == 48:\n",
    "        print(4)\n",
    "    elif 2 * 12 >= 24:\n",
    "        print(5)\n",
    "        \n",
    "        if 7 < 3:\n",
    "            print(6)\n",
    "        print(7)\n",
    "    print(8)\n",
    "print(9)        "
   ]
  },
  {
   "cell_type": "markdown",
   "metadata": {},
   "source": [
    "### Exercise 10\n",
    "What will be printed?"
   ]
  },
  {
   "cell_type": "markdown",
   "metadata": {},
   "source": [
    "**Answer: **"
   ]
  },
  {
   "cell_type": "code",
   "execution_count": null,
   "metadata": {},
   "outputs": [],
   "source": [
    "if 2 * 2 == 5:\n",
    "    print(\"Tricky question!\")\n",
    "elif 3 * 3 == 9:\n",
    "    print(\"You are trying to confuse me!\")\n",
    "elseif 2 * 2 == 4:\n",
    "    print(\"Now, I am really lost!\")\n",
    "else:\n",
    "    print(\"I don't know!\")"
   ]
  },
  {
   "cell_type": "markdown",
   "metadata": {},
   "source": [
    "### Exercise 11\n",
    "Combine (copy-paste) code from exercises #1 and #2. Compare the two number (computer's pick and player's guess) and print\n",
    "* \"My number is lower!\", if the computer pick is smaller than player's guess.\n",
    "* \"My number is higher!\", if the computer pick is larger than player's guess.\n",
    "* \"Spot on!\", if two numbers are identical."
   ]
  },
  {
   "cell_type": "code",
   "execution_count": null,
   "metadata": {},
   "outputs": [],
   "source": []
  },
  {
   "cell_type": "markdown",
   "metadata": {},
   "source": [
    "### Exercise 12\n",
    "First copy-paste your solution for exercise #8. Add the `from random import randint` as the first line. Then, replace the hard-coded value you used for computer's pick with a call to [randint()](https://docs.python.org/3/library/random.html#random.randint) function. Run the code several times to check that computer does pick different random values."
   ]
  },
  {
   "cell_type": "code",
   "execution_count": null,
   "metadata": {},
   "outputs": [],
   "source": []
  },
  {
   "cell_type": "markdown",
   "metadata": {},
   "source": [
    "### Exercise 13\n",
    "Program \"one-armed bandit game\".\n",
    "\n",
    "1. `from random import randint`\n",
    "2. Generate three random integers (say, between 1 and 5) and store them in three variables `slot1`, `slot2`, and `slot3`.\n",
    "3. Print out the numbers, use string formatting to make it look nice.\n",
    "4. In addition, if all three values are the same, print `\"Three of a kind!\"`. If only two numbers match, print `\"Pair!\"`. Print nothing, if all numbers are different."
   ]
  },
  {
   "cell_type": "code",
   "execution_count": null,
   "metadata": {},
   "outputs": [],
   "source": []
  }
 ],
 "metadata": {
  "kernelspec": {
   "display_name": "Python 3",
   "language": "python",
   "name": "python3"
  },
  "language_info": {
   "codemirror_mode": {
    "name": "ipython",
    "version": 3
   },
   "file_extension": ".py",
   "mimetype": "text/x-python",
   "name": "python",
   "nbconvert_exporter": "python",
   "pygments_lexer": "ipython3",
   "version": "3.6.1"
  }
 },
 "nbformat": 4,
 "nbformat_minor": 4
}
