{
 "cells": [
  {
   "cell_type": "markdown",
   "metadata": {},
   "source": [
    "# Seminar 01. Guess the number\n",
    "\n",
    "We will start by programming one of the simplest games. One participant (computer) picks the number between 1 and 10 (or 1 and 100). The other participant is trying to guess it. After every guess the first participants responds whether the actual number is lower, higher or matches the guess. In the latter case, the game is over. \n",
    "\n",
    "We will implement it by taking very small steps in the process. Each steps one assignment. Once the code works, copy paste it to the assignment and turn it in. \n",
    "\n",
    "Start Jupyter, create a new notebook (name it, so you easily find it later, e.g., \"Guess the number\") and create a new cell for each assignment. I would also advice copying the assignment and pasting it before the code.\n",
    "\n",
    "Paste your code, as you go through the questions. Don't hesitate to ask me!"
   ]
  },
  {
   "cell_type": "markdown",
   "metadata": {},
   "source": [
    "---\n",
    "**#1.** Create a variable and assign an integer number of your choice (this will be the number computer \"picked\"). Use sensible variable name (e.g., \"pick\") rather than meaningless \"x\" or \"n\". Print out that variable."
   ]
  },
  {
   "cell_type": "code",
   "execution_count": null,
   "metadata": {},
   "outputs": [],
   "source": []
  },
  {
   "cell_type": "markdown",
   "metadata": {},
   "source": [
    "---\n",
    "**#2.** Ask for a guess from user (see input function) and store it in a variable (again, use sensible and meaningful name). Print it out."
   ]
  },
  {
   "cell_type": "code",
   "execution_count": null,
   "metadata": {},
   "outputs": [],
   "source": []
  },
  {
   "cell_type": "markdown",
   "metadata": {},
   "source": [
    "---\n",
    "**#3.** Combine code from #1 and #2 but print both numbers together in one print function call. Embed them in text that explains which one is which (see text formatting part)."
   ]
  },
  {
   "cell_type": "code",
   "execution_count": null,
   "metadata": {},
   "outputs": [],
   "source": []
  },
  {
   "cell_type": "markdown",
   "metadata": {},
   "source": [
    "---\n",
    "**#4.** Extend #3 by generating the pick number randomly using random.randint() function. You need to load the library first using import statement."
   ]
  },
  {
   "cell_type": "code",
   "execution_count": null,
   "metadata": {},
   "outputs": [],
   "source": []
  },
  {
   "cell_type": "markdown",
   "metadata": {},
   "source": [
    "---\n",
    "**#5.** Extend #4 by comparing the two numbers. Print out \"correct!\" if numbers match, \"wrong!\" otherwise. Please note that input() function always returns a string, whereas computer's pick is an integer. You need to convert the user supplied value to an integer using int() function."
   ]
  },
  {
   "cell_type": "code",
   "execution_count": null,
   "metadata": {},
   "outputs": [],
   "source": []
  },
  {
   "cell_type": "markdown",
   "metadata": {},
   "source": [
    "---\n",
    "**#6.** Extend #5 by providing three responses: \"correct\", \"lower\" (if picked number is lower than the guess), and \"higher\" (if picked number is higher than the guess). Use if..elif..else statement."
   ]
  },
  {
   "cell_type": "code",
   "execution_count": null,
   "metadata": {},
   "outputs": [],
   "source": []
  },
  {
   "cell_type": "markdown",
   "metadata": {},
   "source": [
    "---\n",
    "**#7.** Extend #6 by repeating the game until the correct answer has been submitted. Use while loop."
   ]
  },
  {
   "cell_type": "code",
   "execution_count": null,
   "metadata": {},
   "outputs": [],
   "source": []
  },
  {
   "cell_type": "markdown",
   "metadata": {},
   "source": [
    "---\n",
    "**#8.** Extend #7 by adding a variable that counts the attempts. You should print out the attempt number is the input() prompt."
   ]
  },
  {
   "cell_type": "code",
   "execution_count": null,
   "metadata": {},
   "outputs": [],
   "source": []
  },
  {
   "cell_type": "markdown",
   "metadata": {},
   "source": [
    "---\n",
    "**#9.** Extend #8 by limiting the number of allowed attempts (e.g., maximal number is 5). Use for loop."
   ]
  },
  {
   "cell_type": "code",
   "execution_count": null,
   "metadata": {},
   "outputs": [],
   "source": []
  },
  {
   "cell_type": "markdown",
   "metadata": {},
   "source": [
    "---\n",
    "**#10.** Modify #9 to use while loop instead. Use break to exit the loop, once the maximal number of attempts has been made."
   ]
  },
  {
   "cell_type": "code",
   "execution_count": null,
   "metadata": {},
   "outputs": [],
   "source": []
  },
  {
   "cell_type": "markdown",
   "metadata": {},
   "source": [
    "---\n",
    "**#11.** Same as #10 but do not use break. Put both conditions into loop declaration."
   ]
  },
  {
   "cell_type": "code",
   "execution_count": null,
   "metadata": {},
   "outputs": [],
   "source": []
  },
  {
   "cell_type": "markdown",
   "metadata": {},
   "source": [
    "---\n",
    "**12.** Modify #11, so that the prompt reports number of remaining attempts."
   ]
  },
  {
   "cell_type": "code",
   "execution_count": null,
   "metadata": {},
   "outputs": [],
   "source": []
  },
  {
   "cell_type": "markdown",
   "metadata": {},
   "source": [
    "---\n",
    "**13.** Modify #12, so that once the game is over participants are asked whether they want to play again (y/n). Game is repeated, if they respond with \"y\"."
   ]
  },
  {
   "cell_type": "code",
   "execution_count": null,
   "metadata": {},
   "outputs": [],
   "source": []
  },
  {
   "cell_type": "markdown",
   "metadata": {},
   "source": [
    "---\n",
    "**#14.** Add a variable that holds the best score (fewest number of attempts required) and print it after each game."
   ]
  },
  {
   "cell_type": "code",
   "execution_count": null,
   "metadata": {},
   "outputs": [],
   "source": [
    " "
   ]
  },
  {
   "cell_type": "markdown",
   "metadata": {},
   "source": [
    "---\n",
    "**#15.** Modify the game, so that computer lies with certain probability about whether the picked number is higher or lower (but always tells the truth, if numbers match)."
   ]
  },
  {
   "cell_type": "code",
   "execution_count": null,
   "metadata": {},
   "outputs": [],
   "source": []
  }
 ],
 "metadata": {
  "kernelspec": {
   "display_name": "Python 3",
   "language": "python",
   "name": "python3"
  },
  "language_info": {
   "codemirror_mode": {
    "name": "ipython",
    "version": 3
   },
   "file_extension": ".py",
   "mimetype": "text/x-python",
   "name": "python",
   "nbconvert_exporter": "python",
   "pygments_lexer": "ipython3",
   "version": "3.6.1"
  }
 },
 "nbformat": 4,
 "nbformat_minor": 4
}
