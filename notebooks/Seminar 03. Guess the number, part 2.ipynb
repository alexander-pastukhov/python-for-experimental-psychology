{
 "cells": [
  {
   "cell_type": "markdown",
   "metadata": {},
   "source": [
    "# Seminar 03. Guess the number, part 2"
   ]
  },
  {
   "cell_type": "markdown",
   "metadata": {},
   "source": [
    "### Exercise 01\n",
    "Take a look at the code and decide how many times each loop will be repeated. Write down your answer and check it by running cells. Hint, you might need to use _Kernel / Interrupt_ menu option eventually."
   ]
  },
  {
   "cell_type": "markdown",
   "metadata": {},
   "source": [
    "**Answer #1:**"
   ]
  },
  {
   "cell_type": "code",
   "execution_count": null,
   "metadata": {},
   "outputs": [],
   "source": [
    "while False:\n",
    "    print(\"I am inside!\")"
   ]
  },
  {
   "cell_type": "markdown",
   "metadata": {},
   "source": [
    "**Answer #2:**"
   ]
  },
  {
   "cell_type": "code",
   "execution_count": null,
   "metadata": {},
   "outputs": [],
   "source": [
    "a = \"A\"\n",
    "while a == \"A\":\n",
    "    a = \"B\"\n",
    "    print(\"I am inside!\")"
   ]
  },
  {
   "cell_type": "markdown",
   "metadata": {},
   "source": [
    "**Answer #3:**"
   ]
  },
  {
   "cell_type": "code",
   "execution_count": null,
   "metadata": {},
   "outputs": [],
   "source": [
    "a = 0\n",
    "while a < 5:\n",
    "    a = a + 1\n",
    "    print(\"I am inside\")"
   ]
  },
  {
   "cell_type": "markdown",
   "metadata": {},
   "source": [
    "**Answer #4:**"
   ]
  },
  {
   "cell_type": "code",
   "execution_count": null,
   "metadata": {},
   "outputs": [],
   "source": [
    "a = 0\n",
    "while a < 5:\n",
    "    a = a + 4\n",
    "    print(\"I am inside\")"
   ]
  },
  {
   "cell_type": "markdown",
   "metadata": {},
   "source": [
    "**Answer #5:**"
   ]
  },
  {
   "cell_type": "code",
   "execution_count": null,
   "metadata": {},
   "outputs": [],
   "source": [
    "a = 0\n",
    "while a >= 0:\n",
    "    a = a + 1\n",
    "    print(\"I am inside\")"
   ]
  },
  {
   "cell_type": "markdown",
   "metadata": {},
   "source": [
    "### Exercise 02\n",
    "Use _while_ loop, so that the player keeps guessing until finally getting it right.\n",
    "```\n",
    "from random import randint\n",
    "\n",
    "# generated random number and store in computer_pick variable\n",
    "# print it out for debugging purposes\n",
    "# get player input, convert it to an integer, and store\n",
    "\n",
    "# while <players guess is not equal to the value the computer picked>:\n",
    "    # print out \"my number is smaller\" or \"my number is larger\" using if-else statement\n",
    "    \n",
    "# print \"Spot on!\" (because if we got here that means guess is equal to the computer's pick)\n",
    "```"
   ]
  },
  {
   "cell_type": "code",
   "execution_count": null,
   "metadata": {},
   "outputs": [],
   "source": []
  },
  {
   "cell_type": "markdown",
   "metadata": {},
   "source": [
    "### Exercise 03\n",
    "Let us add a variable that will count the total number of attempts the player required. For this, create a new variable (call it `attempts` or something similar) _before the loop_ and initialize it `0`. Add `1` to it every time the player inputs the guess. After the loop, expand the `\"Spot on!\"` message you print out by adding information about the attempts count. Use string formatting to make things look nice, e.g. `\"Spot on, you needed 5 attempts\"`."
   ]
  },
  {
   "cell_type": "code",
   "execution_count": null,
   "metadata": {},
   "outputs": [],
   "source": []
  },
  {
   "cell_type": "markdown",
   "metadata": {},
   "source": [
    "### Exercise 04\n",
    "Take a look at the code and decide which numbers will be printed out. Write down your answer and check it by running cells."
   ]
  },
  {
   "cell_type": "markdown",
   "metadata": {},
   "source": [
    "**Answer #1:**"
   ]
  },
  {
   "cell_type": "code",
   "execution_count": null,
   "metadata": {},
   "outputs": [],
   "source": [
    "print(\"1\")\n",
    "while True:\n",
    "    break\n",
    "    print(\"2\")\n",
    "print(\"3\")"
   ]
  },
  {
   "cell_type": "markdown",
   "metadata": {},
   "source": [
    "**Answer #2:**"
   ]
  },
  {
   "cell_type": "code",
   "execution_count": null,
   "metadata": {},
   "outputs": [],
   "source": [
    "x = 2\n",
    "print(\"1\")\n",
    "while x == 2:\n",
    "    print(\"2\")\n",
    "    if x == 2:\n",
    "        break\n",
    "        print(\"3\")\n",
    "    \n",
    "    print(\"4\")\n",
    "\n",
    "print(\"5\")"
   ]
  },
  {
   "cell_type": "markdown",
   "metadata": {},
   "source": [
    "**Answer #3:**"
   ]
  },
  {
   "cell_type": "code",
   "execution_count": null,
   "metadata": {},
   "outputs": [],
   "source": [
    "x = 2\n",
    "while x == 2:\n",
    "    print(\"1\")\n",
    "    while x > 3:\n",
    "        print(\"2\")\n",
    "        \n",
    "    while x != -1:\n",
    "        print(\"3\")\n",
    "        break\n",
    "        print(\"4\")\n",
    "        \n",
    "    while x <= 2:\n",
    "        print(\"5\")\n",
    "        x = x + 2\n",
    "    \n",
    "    print(\"6\")\n",
    "    break\n",
    "    print(\"7\")\n",
    "\n",
    "print(\"8\")"
   ]
  },
  {
   "cell_type": "markdown",
   "metadata": {},
   "source": [
    "### Exercise 05\n",
    "Let's put the player under some pressure! Decide on maximal number of attempts allowed and stores in a constant. Pick an appropriate name (e.g. `MAX_ATTEMPTS`) and REMEMBER, ALL CAPITAL LETTERS for a constant name! Now, use `break` to quit the `while` loop, if current attempt number is greater than `MAX_ATTEMPTS`."
   ]
  },
  {
   "cell_type": "code",
   "execution_count": null,
   "metadata": {},
   "outputs": [],
   "source": []
  },
  {
   "cell_type": "markdown",
   "metadata": {},
   "source": [
    "### Exercise 06\n",
    "Use `if-else` conditional statement to print out an appropriate final message (e.g., `\"Better luck next time!`, if the player lost)."
   ]
  },
  {
   "cell_type": "code",
   "execution_count": null,
   "metadata": {},
   "outputs": [],
   "source": []
  },
  {
   "cell_type": "markdown",
   "metadata": {},
   "source": [
    "### Exercise 07\n",
    "Modify your code to work without `break` statement. Modify your condition so that loop repeats while player's guess is incorrect and the number of attempts is still less than the maximally allowed."
   ]
  },
  {
   "cell_type": "code",
   "execution_count": null,
   "metadata": {},
   "outputs": [],
   "source": []
  },
  {
   "cell_type": "markdown",
   "metadata": {},
   "source": [
    "### Exercise 08\n",
    "Modify the `input` prompt message to include number of _remaining_ attempts."
   ]
  },
  {
   "cell_type": "code",
   "execution_count": null,
   "metadata": {},
   "outputs": [],
   "source": []
  },
  {
   "cell_type": "markdown",
   "metadata": {},
   "source": [
    "### Exercise 09\n",
    "Add another `while` loop to let the player play more than one round."
   ]
  },
  {
   "cell_type": "code",
   "execution_count": null,
   "metadata": {},
   "outputs": [],
   "source": []
  },
  {
   "cell_type": "markdown",
   "metadata": {},
   "source": [
    "### Exercise 10\n",
    "Keep the best score (fewest attempts) and show it in the end-of-the-round message."
   ]
  },
  {
   "cell_type": "code",
   "execution_count": null,
   "metadata": {},
   "outputs": [],
   "source": []
  },
  {
   "cell_type": "markdown",
   "metadata": {},
   "source": [
    "### Exercise 11\n",
    "Count the number of rounds played and show in the final game-over message."
   ]
  },
  {
   "cell_type": "code",
   "execution_count": null,
   "metadata": {},
   "outputs": [],
   "source": []
  }
 ],
 "metadata": {
  "kernelspec": {
   "display_name": "Python 3",
   "language": "python",
   "name": "python3"
  },
  "language_info": {
   "codemirror_mode": {
    "name": "ipython",
    "version": 3
   },
   "file_extension": ".py",
   "mimetype": "text/x-python",
   "name": "python",
   "nbconvert_exporter": "python",
   "pygments_lexer": "ipython3",
   "version": "3.6.1"
  }
 },
 "nbformat": 4,
 "nbformat_minor": 4
}
