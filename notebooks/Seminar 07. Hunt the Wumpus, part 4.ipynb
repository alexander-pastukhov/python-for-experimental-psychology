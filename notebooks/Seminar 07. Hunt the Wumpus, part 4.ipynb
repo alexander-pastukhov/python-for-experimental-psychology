{
 "cells": [
  {
   "cell_type": "markdown",
   "metadata": {},
   "source": [
    "# Seminar 07. Hunt the Wumpus, part 4"
   ]
  },
  {
   "cell_type": "markdown",
   "metadata": {},
   "source": [
    "### Exercise 1, add Wumpus\n",
    "1. Create a new variable (`wumpus`?) and place Wumpus in an occupied cave. Print out location of Wumpus for debugging purposes.\n",
    "2. Warn about Wumpus in the same code that warns about pits and bats. Canonical warning text is `\"You smell a wumpus!\"`. \n",
    "3. Check if player is in the same cave as Wumpus. If that is the case, game is over, as the player is eaten by a hungry Wumpus. This is similar to _game-over_ due to falling into a bottomless pit."
   ]
  },
  {
   "cell_type": "code",
   "execution_count": 6,
   "metadata": {},
   "outputs": [
    {
     "data": {
      "text/plain": [
       "2"
      ]
     },
     "execution_count": 6,
     "metadata": {},
     "output_type": "execute_result"
    }
   ],
   "source": []
  },
  {
   "cell_type": "markdown",
   "metadata": {},
   "source": [
    "## Exercise 2, scare Wumpus or get eaten\n",
    "if the player is in the cave with Wumpus, draw a random number between 0 and 1. The function you are looking for is [random()](https://docs.python.org/3/library/random.html#random.random) and it is part of [random](https://docs.python.org/3/library/random.html) library, so the call is `random.random()`.If that number is smaller than probability that the Wumpus is scared, move it to a random adjacent cave (bats ignore Wumpus and it clings to the ceiling of the caves, so bottomless pits are not a problem for it). A useful function is [choice()](https://docs.python.org/3/library/random.html#random.choice), again, part of [random](https://docs.python.org/3/library/random.html) library. Otherwise, if Wumpus was not scared off, the player is eaten and game is over (the only outcome in exercise #1)."
   ]
  },
  {
   "cell_type": "code",
   "execution_count": null,
   "metadata": {},
   "outputs": [],
   "source": []
  },
  {
   "cell_type": "markdown",
   "metadata": {},
   "source": [
    "## Exercise 3, random but not previous cave\n",
    "Program a function that picks a random cave but not the previous cave the arrow had been in. It should have two parameters:\n",
    "\n",
    "* `connected_caves`: a list of connected caves.\n",
    "* `previous_cave`: cave from which the arrow came from."
   ]
  },
  {
   "cell_type": "code",
   "execution_count": null,
   "metadata": {},
   "outputs": [],
   "source": []
  },
  {
   "cell_type": "markdown",
   "metadata": {},
   "source": [
    "## Exercise 4, going distance\n",
    "Now that you have a function that flies to the next random cave, implement flying using a for loop. An arrow should fly through `shooting_distance` caves (set it to `5`, maximal distance, by hand for testing). The _first_ cave is given (it will be picked by the player), so set `arrow` to `1` and `arrow_previous_cave` to `0` (player is in the cave `0` and shot the arrow into cave `1`). For debugging purposes, print out location of the arrow on each iteration. Test the code by changing `shooting_distance`. In particular, set it to `1`. The arrow should \"fall down\" already in cave `1`."
   ]
  },
  {
   "cell_type": "code",
   "execution_count": null,
   "metadata": {},
   "outputs": [],
   "source": []
  },
  {
   "cell_type": "markdown",
   "metadata": {},
   "source": [
    "## Exercise 5, hitting a target\n",
    "Implement check for hitting the Wumpus or the player in the loop. Should the check be before or after the arrow flies to the next random cave? In both cases, write an appropriate \"game over\" message, set variable `gameover` to `True` (we will add to the main code later), and break out of the loop. Test the code by placing Wumpus by hand into the cave the player is shooting at or the next one. Run code multiple times to check that it works."
   ]
  },
  {
   "cell_type": "code",
   "execution_count": null,
   "metadata": {},
   "outputs": [],
   "source": []
  },
  {
   "cell_type": "markdown",
   "metadata": {},
   "source": [
    "## Exercise 6, shoot or move\n",
    "Implement a function `input_shoot_or_move()` that has no parameters and returns `\"s\"` for shooting o `\"m\"` for moving. Inside, ask the player about their choice until they pick one of two options. Conceptually, this is very similar to your other input functions (`input_int()` and `input_cave()`) that repeatedly request input until a valid one is given. Test and document!"
   ]
  },
  {
   "cell_type": "code",
   "execution_count": null,
   "metadata": {},
   "outputs": [],
   "source": []
  },
  {
   "cell_type": "markdown",
   "metadata": {},
   "source": [
    "## Exercise 7, how far?\n",
    "Implement `input_distance()` function that has no parameters and returns the desired shooting distance between `1` and `5`. Inside, repeatedly ask for an integer number input on how far the arrow should travel until valid input is given. This is very similar to your other input functions. Test and document."
   ]
  },
  {
   "cell_type": "code",
   "execution_count": null,
   "metadata": {},
   "outputs": [],
   "source": []
  },
  {
   "cell_type": "markdown",
   "metadata": {},
   "source": [
    "## Exercise 8, input_cave prompt\n",
    "Add `prompt` parameter to the `input_cave()` function you have previously. Now we can ask either about moving to or shooting at the cave, hence, the need for the prompt in place of a hard-coded message."
   ]
  },
  {
   "cell_type": "code",
   "execution_count": null,
   "metadata": {},
   "outputs": [],
   "source": []
  },
  {
   "cell_type": "markdown",
   "metadata": {},
   "source": [
    "## Exercise 9, ta-da!\n",
    "Put it all together. Take a look at pseudocode to better understand how the new bits get integrated into the old code."
   ]
  },
  {
   "cell_type": "code",
   "execution_count": null,
   "metadata": {},
   "outputs": [],
   "source": []
  }
 ],
 "metadata": {
  "kernelspec": {
   "display_name": "Python 3",
   "language": "python",
   "name": "python3"
  },
  "language_info": {
   "codemirror_mode": {
    "name": "ipython",
    "version": 3
   },
   "file_extension": ".py",
   "mimetype": "text/x-python",
   "name": "python",
   "nbconvert_exporter": "python",
   "pygments_lexer": "ipython3",
   "version": "3.6.1"
  }
 },
 "nbformat": 4,
 "nbformat_minor": 2
}
