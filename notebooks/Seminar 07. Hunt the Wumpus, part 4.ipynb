{
 "cells": [
  {
   "cell_type": "markdown",
   "metadata": {},
   "source": [
    "# Seminar 07. Hunt the Wumpus, part 4"
   ]
  },
  {
   "cell_type": "markdown",
   "metadata": {},
   "source": [
    "### Exercise 1, add Wumpus\n",
    "1. Create a new variable (`wumpus`?) and place Wumpus in an occupied cave. Print out location of Wumpus for debugging purposes.\n",
    "2. Warn about Wumpus in the same code that warns about pits and bats. Canonical warning text is `\"You smell a wumpus!\"`. \n",
    "3. Check if player is in the same cave as Wumpus. If that is the case, game is over, as the player is eaten by a hungry Wumpus. This is similar to _game-over_ due to falling into a bottomless pit."
   ]
  },
  {
   "cell_type": "code",
   "execution_count": 6,
   "metadata": {},
   "outputs": [
    {
     "data": {
      "text/plain": [
       "2"
      ]
     },
     "execution_count": 6,
     "metadata": {},
     "output_type": "execute_result"
    }
   ],
   "source": []
  },
  {
   "cell_type": "markdown",
   "metadata": {},
   "source": [
    "## Exercise 2, scare Wumpus or get eaten\n",
    "if the player is in the cave with Wumpus, draw a random number between 0 and 1. The function you are looking for is [random()](https://docs.python.org/3/library/random.html#random.random) and it is part of [random](https://docs.python.org/3/library/random.html) library, so the call is `random.random()`.If that number is smaller than probability that the Wumpus is scared, move it to a random adjacent cave (bats ignore Wumpus and it clings to the ceiling of the caves, so bottomless pits are not a problem for it). A useful function is [choice()](https://docs.python.org/3/library/random.html#random.choice), again, part of [random](https://docs.python.org/3/library/random.html) library. Otherwise, if Wumpus was not scared off, the player is eaten and game is over (the only outcome in exercise #1)."
   ]
  },
  {
   "cell_type": "code",
   "execution_count": null,
   "metadata": {},
   "outputs": [],
   "source": []
  }
 ],
 "metadata": {
  "kernelspec": {
   "display_name": "Python 3",
   "language": "python",
   "name": "python3"
  },
  "language_info": {
   "codemirror_mode": {
    "name": "ipython",
    "version": 3
   },
   "file_extension": ".py",
   "mimetype": "text/x-python",
   "name": "python",
   "nbconvert_exporter": "python",
   "pygments_lexer": "ipython3",
   "version": "3.6.1"
  }
 },
 "nbformat": 4,
 "nbformat_minor": 2
}
